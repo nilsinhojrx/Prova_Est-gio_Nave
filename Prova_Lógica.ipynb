{
  "nbformat": 4,
  "nbformat_minor": 0,
  "metadata": {
    "colab": {
      "name": "Prova_Lógica.ipynb",
      "provenance": [],
      "collapsed_sections": [],
      "authorship_tag": "ABX9TyMb8saIRea2DJVXmQsClzOc",
      "include_colab_link": true
    },
    "kernelspec": {
      "name": "python3",
      "display_name": "Python 3"
    },
    "language_info": {
      "name": "python"
    }
  },
  "cells": [
    {
      "cell_type": "markdown",
      "metadata": {
        "id": "view-in-github",
        "colab_type": "text"
      },
      "source": [
        "<a href=\"https://colab.research.google.com/github/nilsinhojrx/Prova_Estagio_Nave/blob/main/Prova_L%C3%B3gica.ipynb\" target=\"_parent\"><img src=\"https://colab.research.google.com/assets/colab-badge.svg\" alt=\"Open In Colab\"/></a>"
      ]
    },
    {
      "cell_type": "markdown",
      "metadata": {
        "id": "o5xLHmFZdMSy"
      },
      "source": [
        "#                                        **Questões de Lógica - Nilson Herbert**\n",
        "\n"
      ]
    },
    {
      "cell_type": "markdown",
      "metadata": {
        "id": "va69p2JSehiB"
      },
      "source": [
        "### Questão 01: Maior string \n"
      ]
    },
    {
      "cell_type": "markdown",
      "metadata": {
        "id": "cySQKsAq18mJ"
      },
      "source": [
        "A questão pede para retornar a maior string dentre duas que foram recebidas. Eu resolvi de duas maneiras:\n",
        "\n",
        "\n",
        "1.   A primeira foi utilizando atribuição condicional no comando print, que faz com seja impresso a string que possui o maior comprimento, que é calculado pela função **len** \n",
        "\n",
        "\n",
        "2.   A segunda foi colocando as duas strings fornecidas em uma lista e utilizando o comando **sort**, que serve para ordenar listas. Além disso, no parâmentro key, eu utilizei a função **len** para que a lista fosse ordenada de acordo com o comprimento das strings\n",
        "\n"
      ]
    },
    {
      "cell_type": "code",
      "metadata": {
        "id": "sT0EQavEdCrg"
      },
      "source": [
        "# Modo 01\n",
        "# Entradas das variáveis string\n",
        "a, b = input(\"Digite a primeira string: \"), input(\"Digite a segunda string: \") #Atribuição múltipla\n",
        "\n",
        "# Resposta\n",
        "print(f'A maior string é: {a if len(a) > len(b) else b}') # Imprimir maior str + Atrinuição condicional usando if e else"
      ],
      "execution_count": null,
      "outputs": []
    },
    {
      "cell_type": "code",
      "metadata": {
        "id": "E3rbib2tedyX"
      },
      "source": [
        "# Modo 02\n",
        "# Outro modo de fazer\n",
        "lista = [a,b] # Colocar as duas strings numa lista\n",
        "lista.sort(key=len) # ordenar a lista pelo comprimento da string\n",
        "\n",
        "print(f' A maior string é: {lista[1]}') #Imprimir a string com maior comprimento"
      ],
      "execution_count": null,
      "outputs": []
    },
    {
      "cell_type": "markdown",
      "metadata": {
        "id": "N2PTgsWqefQ-"
      },
      "source": [
        "### Questão 02: String replace\n"
      ]
    },
    {
      "cell_type": "markdown",
      "metadata": {
        "id": "nWo5qDGJ3sfd"
      },
      "source": [
        "A questão pede para substituir cada dígito numérico presente numa string pelo caractere $.\n",
        "\n",
        "Pensei em duas formas de resolver:\n",
        "\n",
        "1.   Criando uma lista contendo caracteres numéricos no formato string, já que 1 string é diferente de 1 do tipo inteiro, e utilizando um loop for, que percorre a string, verifica se o dígito é numérico usando o **if** e faz a mudança na string através do método **replace**\n",
        "\n",
        "2.   A segunda forma é bem parecida com a primeira, mas sem utilizar a lista de caracteres numéricos. Em vez disso, utilizei um método de string chamado **isnumeric** , que ser para verificar se o dígito é numérico\n"
      ]
    },
    {
      "cell_type": "code",
      "metadata": {
        "id": "G-YonUrBe11S"
      },
      "source": [
        "s = 'teste 1 de 2 string 3'\n",
        "num = ['0','1','2','3','4','5','6','7','8','9'] # lista com todos os algarismos na forma de string\n",
        "\n",
        "# Lopp for que percorre a string s e substtuiu cada string numérica pelo símbolo $\n",
        "for i in s:\n",
        "    if i in num:\n",
        "        s = s.replace(i, '$')\n",
        "    \n",
        "print(f'String modificada: {s}') # Função print junto com string format"
      ],
      "execution_count": null,
      "outputs": []
    },
    {
      "cell_type": "code",
      "metadata": {
        "id": "sCvlBNvGe3UV"
      },
      "source": [
        "# Outra forma de fazer o mesmo exercício utilizando o método de string isnumeric() que verifica se o dígito é numérico\n",
        "for k in s:\n",
        "    if k.isnumeric() == True:\n",
        "        s = s.replace(k, '$')\n",
        "\n",
        "print(f'String modificada: {s}') # Resposta esperada: 'teste $ de $ string $'"
      ],
      "execution_count": null,
      "outputs": []
    },
    {
      "cell_type": "markdown",
      "metadata": {
        "id": "ixvOwghge7v1"
      },
      "source": [
        "### Questão 03: Traduzir uma string usando um dicionário\n",
        " "
      ]
    },
    {
      "cell_type": "markdown",
      "metadata": {
        "id": "epobLIXa55Oj"
      },
      "source": [
        "Para resolver essa questão, utilizei um loop **for** para percorrer toda a   string e o condicional **if** para verificar se o dígito é numérico.\n",
        "\n",
        "Por fim, o método **replace** foi necessário para substituir cada dígito numérico pela letra correspondente no dicionário. Como os dicionários funcionam no modelo chave-valor, e as chaves do dicionário \"d\" são do tipo inteiro, o comando **int** foi necessário para converter o dígito numérico de string para inteiro, antes de acessar o valor dentro do dicionário usando *d[ int(i) ]*, onde *int(i)* representa a chave numérica.\n",
        "\n",
        "Assim como na questão anterior, a verificação dos digítos da string poderia ter sido feita usando uma lista com caracteres numéricos do tipo string."
      ]
    },
    {
      "cell_type": "code",
      "metadata": {
        "id": "lf839NVHfHV2"
      },
      "source": [
        "d = { 4: 'a', 3: 'e', 1: 'i', 5: 's' }\n",
        "s = 'T35t3 d3 35t4g1o'\n",
        "\n",
        "# Loop que percorre a string e muda cada sring numérica pela letra que correspondente no dicionário d\n",
        "for i in s:\n",
        "    if i.isnumeric() == True: # Também pode usar o comando isdecimal\n",
        "        s = s.replace(i, d[int(i)] ) # Trocar o digito i pelo valor correspondente a chave i no dicionário d\n",
        "\n",
        "print(f'String modificada: {s}')"
      ],
      "execution_count": null,
      "outputs": []
    },
    {
      "cell_type": "markdown",
      "metadata": {
        "id": "c3SB8i7HfOAU"
      },
      "source": [
        "### Questão 04: Endereço utilizando a API via cep\n",
        " "
      ]
    },
    {
      "cell_type": "markdown",
      "metadata": {
        "id": "zByA8PS6_iLw"
      },
      "source": [
        " Essa questão faz consulta do CEP e retorna dados no formato JSON (Javascript Object Notation). \n",
        "\n",
        " Para isso, foi necessária a importação dos pacotes *requests* e *json* que são nativos do python e não necessitam de instalação adicional.\n",
        "\n",
        " Para testar o código, utilizei dois CEP de cidades do norte de Minas Gerais e, na visualização da resposta, usei duas formas diferentes, sendo uma contendo apenas alguns dados ordenados e outra contendo todo o arquivo JSON."
      ]
    },
    {
      "cell_type": "code",
      "metadata": {
        "id": "JslPsEEVfXoE"
      },
      "source": [
        "import requests, json\n",
        "\n",
        "cep = '39400215' # cep Montes Claros - MG\n",
        "url = 'https://viacep.com.br/ws/{}/json/'.format(cep) # retorna o endereco em json\n",
        "resposta = requests.request('GET', url) # Faz a consulta do cep\n",
        "conteudo = resposta.content.decode('utf-8') # passar para utf-8\n",
        "resposta.close()\n",
        "\n",
        "end = json.loads(conteudo)\n",
        "\n",
        "print( end['logradouro'], ',' ,end['complemento'], ',' ,end['bairro'], ',' ,end['localidade'], '-' ,end['uf'] )\n",
        "\n",
        "print('\\n') # quebra de linha para dar espaço entre as respostas\n",
        "\n",
        "print(end) #esse comando serve para visualizar o arquivo em Json\n"
      ],
      "execution_count": null,
      "outputs": []
    },
    {
      "cell_type": "code",
      "metadata": {
        "id": "_Lrd_nuehsSs"
      },
      "source": [
        "import requests, json\n",
        "\n",
        "cep = '39480000' # cep Januária-MG\n",
        "url = 'https://viacep.com.br/ws/{}/json/'.format(cep) # retorna o endereco em json\n",
        "resposta = requests.request('GET', url) # Faz a consulta do cep\n",
        "conteudo = resposta.content.decode('utf-8') # passar para utf-8\n",
        "resposta.close()\n",
        "\n",
        "end = json.loads(conteudo)\n",
        "\n",
        "print( end['logradouro'], ',' ,end['complemento'], ',' ,end['bairro'], ',' ,end['localidade'], '-' ,end['uf'] )\n",
        "\n",
        "print('\\n')\n",
        "\n",
        "print(end)"
      ],
      "execution_count": null,
      "outputs": []
    },
    {
      "cell_type": "markdown",
      "metadata": {
        "id": "fKp-CsPwBXWE"
      },
      "source": [
        "Observe que para a cidade de Januária existem poucos dados sobre o endereço."
      ]
    },
    {
      "cell_type": "markdown",
      "metadata": {
        "id": "FGuJYJ-4figZ"
      },
      "source": [
        "### Questão 05: Mensagem de saudação com nome completo\n",
        " "
      ]
    },
    {
      "cell_type": "markdown",
      "metadata": {
        "id": "SkOFjBsdCR_O"
      },
      "source": [
        "O código a seguir percorre todo array \"arr\" e envia uma mensagem definida na variável \"msg\" para cada first_name e last_name que há em cada posição do array.\n",
        "\n",
        "Na variável \"msg\" e no comando print utilizei outro método de string que se chama **string format**, sendo que isso também foi feito nas questões anteriores.\n",
        "\n",
        "Para percorrer todo o array(lista em python), utilizei um loop **for**, assim como a função **range** que cria um intervalo de valores começando do 0, como pode ser visto em um comentário no código abaixo. Além de percorrer todo o array, esse loop também imprime uma mensagem para cada valor da chave \"first_name\" e \"last_name\" de cada dicionário existente na posição *i* da lista. \n",
        "\n",
        " --> Observe que o comando **len** também foi utilizado nessa questão, mas para calcular o comprimento de uma lista."
      ]
    },
    {
      "cell_type": "code",
      "metadata": {
        "id": "QCZk39jMfulB"
      },
      "source": [
        "# Dicionários de elementos\n",
        "arr = [{'id': 1, 'first_name': \"Juca\", 'last_name': \"Da Silva\", \"age\": 42},\n",
        "    {'id': 2, 'first_name': \"Daniel\", 'last_name': \"Gonçalves\",  \"age\": 21},\n",
        "    {'id': 3, 'first_name': \"Matheus\", 'last_name': \"Garcia\", \"age\": 28},\n",
        "    {'id': 4, 'first_name': \"Gabriel\", 'last_name': \"Dorneles\", \"age\": 21} ]\n",
        "\n",
        "msg = ' Olá, {} {} !'\n",
        "\n",
        "# Loop que percorre toda a lista arr e imprime uma mensagem de saudação para cada nome de sobre nome na posição i da lista\n",
        "\n",
        "for i in range( len(arr) ):                                                                  # range( len(arr) ) = (0,1,2,3)\n",
        "    print( msg.format( arr[i]['first_name'], arr[i]['last_name'] ) )"
      ],
      "execution_count": null,
      "outputs": []
    },
    {
      "cell_type": "markdown",
      "metadata": {
        "id": "rZzldXxnFDPo"
      },
      "source": [
        "Apenas para demonstração, coloquei o código abaixo para ler e imprimir cada dicionário presente da lista"
      ]
    },
    {
      "cell_type": "code",
      "metadata": {
        "id": "yZHbYFCKFCIJ"
      },
      "source": [
        "for i in range( len(arr) ):                                                                  \n",
        "    print( arr [i], '\\n' ) # imprimir os dicionários em cada posição i da lista"
      ],
      "execution_count": null,
      "outputs": []
    },
    {
      "cell_type": "markdown",
      "metadata": {
        "id": "jFdd81NjGXBO"
      },
      "source": [
        "O código abaixo irá imprimir cada nome e sobrenome presentes em cada dicionário"
      ]
    },
    {
      "cell_type": "code",
      "metadata": {
        "id": "8pB1VYHwGWEQ"
      },
      "source": [
        "for i in range( len(arr) ):                                                                  \n",
        "    print( arr [i]['first_name'], arr[i]['last_name'], '\\n'  )"
      ],
      "execution_count": null,
      "outputs": []
    },
    {
      "cell_type": "markdown",
      "metadata": {
        "id": "eQpOPaJFf6s8"
      },
      "source": [
        "### Questão 06: Soma das Idades\n",
        " "
      ]
    },
    {
      "cell_type": "markdown",
      "metadata": {
        "id": "skNMODqkIGar"
      },
      "source": [
        " O obejetivo da questão é calcular e mostrar na tela a soma das idades presentes na lista \"arr\".\n",
        "\n",
        " Para isso, criei uma variável de nome soma que começa com valor 0. Em seguida, usei um loop for para percorrer a lista e adicionar o valor da chave \"age\" do dicionário à variável soma. \n",
        "\n",
        " Ao final, também utilizei string format junto ao comando print para exibir o resultado na tela."
      ]
    },
    {
      "cell_type": "code",
      "metadata": {
        "id": "LjNHn0cUgD-l"
      },
      "source": [
        "# Dicionário contendo os dados \n",
        "arr = [{'id': 1, 'first_name': \"Juca\", 'last_name': \"Da Silva\", \"age\": 42},\n",
        "    {'id': 2, 'first_name': \"Daniel\", 'last_name': \"Gonçalves\",  \"age\": 21},\n",
        "    {'id': 3, 'first_name': \"Matheus\", 'last_name': \"Garcia\", \"age\": 28},\n",
        "    {'id': 4, 'first_name': \"Gabriel\", 'last_name': \"Dorneles\", \"age\": 21} ]\n",
        "\n",
        "soma = 0 # variável contendo a soma\n",
        "\n",
        "# Loop que percorre a list arr e incrementa a varável soma                                 # range( len(arr) ) = (0,1,2,3)\n",
        "for i in range( len(arr) ):\n",
        "    soma += arr[i][\"age\"] # soma = soma + idade no dicionário da posição i da lista\n",
        "\n",
        "print(\"A soma das idades é: {}\".format(soma) ) # exibir a soma das idades utilizando print e string format"
      ],
      "execution_count": null,
      "outputs": []
    },
    {
      "cell_type": "markdown",
      "metadata": {
        "id": "82D3BezyOixW"
      },
      "source": [
        " --> O código abaixo irá exibir cada idade presente em cada dicionário da lista assim como os sinais de '+'. Isso serve apenas para mostrar os valores não faz parte da resolução da questão"
      ]
    },
    {
      "cell_type": "code",
      "metadata": {
        "id": "PozG8k0BOv1m"
      },
      "source": [
        "for i in range( len(arr) ):\n",
        "  if i < ( len(arr) - 1 ):\n",
        "    print( arr[i][\"age\"], '\\n', '+' )\n",
        "  else: \n",
        "    print( arr[i][\"age\"] )\n"
      ],
      "execution_count": null,
      "outputs": []
    },
    {
      "cell_type": "code",
      "metadata": {
        "id": "ZcvFSXQQjIon"
      },
      "source": [
        "# Correção \n",
        "a = 42 + 21 + 28 + 21\n",
        "print(a)"
      ],
      "execution_count": null,
      "outputs": []
    },
    {
      "cell_type": "markdown",
      "metadata": {
        "id": "MkFA0zNDgG3o"
      },
      "source": [
        "### Questão 07: Nome da primeira pessoa com idade menor que 30\n",
        " "
      ]
    },
    {
      "cell_type": "markdown",
      "metadata": {
        "id": "uomY2KtjQKAg"
      },
      "source": [
        " Para percorrer os dicionários da lista e encontrar a primeira idade menor que 30, utilizei um loop for e uma variável string vazia chamada \"nome\" a qual irei atribuir o nome completo ( first_name e last_name) da pessoa. \n",
        " \n",
        " A cada ciclo do loop, fiz uma comparação com **if** para verificar se o valor da chave \"age\" da posição *i* da lista é menor que 30. Caso seja, a variável nome receberá o nome completo presente no dicionário e a instrução *break* será acionada para parar a execução do código. Se não, a instrução *continue* faz com que o loop continue executando, até que a condição seja verdadeira.\n"
      ]
    },
    {
      "cell_type": "code",
      "metadata": {
        "id": "Gds9FuY3gU5A"
      },
      "source": [
        "# Dicionário contendo os dados \n",
        "arr = [ {'id': 1, 'first_name': \"Juca\", 'last_name': \"Da Silva\", \"age\": 42},\n",
        "    {'id': 2, 'first_name': \"Daniel\", 'last_name': \"Gonçalves\",  \"age\": 21}, # Primeira pessoa com menos de 30 anos\n",
        "    {'id': 3, 'first_name': \"Matheus\", 'last_name': \"Garcia\", \"age\": 28},\n",
        "    {'id': 4, 'first_name': \"Gabriel\", 'last_name': \"Dorneles\", \"age\": 21} ]\n",
        "\n",
        "nome = '' # string vazia\n",
        "\n",
        "# Loop para percorrer toda a lista arr\n",
        "for i in range( len(arr) ):                                                   # range( len(arr) ) = (0,1,2,3)\n",
        "    if arr[i][\"age\"] < 30:\n",
        "        nome = arr[i][\"first_name\"] + ' ' + arr[i][\"last_name\"]\n",
        "        break       # Interromper o loop\n",
        "    else:\n",
        "        continue    # continuar o loop\n",
        "print(\"O nome da primeira pessoa cuja idade é menor que 30 é: {}\".format(nome))   # Daniel Gonçalves\n"
      ],
      "execution_count": null,
      "outputs": []
    },
    {
      "cell_type": "markdown",
      "metadata": {
        "id": "EqjzjXEbgXyG"
      },
      "source": [
        "### Questão 08: Imprimir idades menores que 30"
      ]
    },
    {
      "cell_type": "markdown",
      "metadata": {
        "id": "xXqwRwx2SiwQ"
      },
      "source": [
        " Essa questão é bem similar a anterior, porém pede para buscar e imprimir as idades que sejam menores que 30. \n",
        "\n",
        " Para isso, fiz uma coondição *if* dentro do loop para verificar se a idade presente no dicionário da posição *i* da lista é menor que 30. Se for, mostrar todo o dicionário. Se não, prosseguir até o final do loop."
      ]
    },
    {
      "cell_type": "code",
      "metadata": {
        "id": "SsalXJ_Fgfab"
      },
      "source": [
        "# Dicionário contendo os dados \n",
        "arr = [{'id': 1, 'first_name': \"Juca\", 'last_name': \"Da Silva\", \"age\": 42},\n",
        "    {'id': 2, 'first_name': \"Daniel\", 'last_name': \"Gonçalves\",  \"age\": 21},\n",
        "    {'id': 3, 'first_name': \"Matheus\", 'last_name': \"Garcia\", \"age\": 28},\n",
        "    {'id': 4, 'first_name': \"Gabriel\", 'last_name': \"Dorneles\", \"age\": 21} ]\n",
        "\n",
        "# Loop para percorrer toda a lista arr\n",
        "for i in range( len(arr) ):\n",
        "    if arr[i][\"age\"] < 30:   \n",
        "        print(arr[i])\n",
        "    else:\n",
        "        continue"
      ],
      "execution_count": null,
      "outputs": []
    },
    {
      "cell_type": "markdown",
      "metadata": {
        "id": "1Hqs-Eb5TbsF"
      },
      "source": [
        "O código abaixo é igual ao anterior, mas possui uma forma mais \"elegante\" de imprimir os valores na tela."
      ]
    },
    {
      "cell_type": "code",
      "metadata": {
        "id": "qWplZe-gk0jA"
      },
      "source": [
        "# Dicionário contendo os dados \n",
        "arr = [{'id': 1, 'first_name': \"Juca\", 'last_name': \"Da Silva\", \"age\": 42},\n",
        "    {'id': 2, 'first_name': \"Daniel\", 'last_name': \"Gonçalves\",  \"age\": 21},\n",
        "    {'id': 3, 'first_name': \"Matheus\", 'last_name': \"Garcia\", \"age\": 28},\n",
        "    {'id': 4, 'first_name': \"Gabriel\", 'last_name': \"Dorneles\", \"age\": 21} ]\n",
        "\n",
        "# Loop para percorrer toda a lista arr\n",
        "for i in range( len(arr) ):\n",
        "    if arr[i][\"age\"] < 30:   \n",
        "        print( arr[i]['first_name'] , arr[i]['last_name'] , ' - ' , arr[i]['age'] )\n",
        "    else:\n",
        "      continue"
      ],
      "execution_count": null,
      "outputs": []
    },
    {
      "cell_type": "markdown",
      "metadata": {
        "id": "6fXi4b7Aa1NC"
      },
      "source": [
        "---------\n"
      ]
    },
    {
      "cell_type": "markdown",
      "metadata": {
        "id": "7rXtTpTegjBG"
      },
      "source": [
        "### Questão 09:  Ordenar os arrays por idade e id"
      ]
    },
    {
      "cell_type": "markdown",
      "metadata": {
        "id": "STHhtTUzTw9C"
      },
      "source": [
        "Essa foi uma questão bem desafiadora, pois eu precisei pesquisar bastanate sobre os métodos de ordenação de lista. \n",
        "\n",
        " Para que a lista fosse ordenada de forma personalizada, pode criar ou utilizar uma função, ou pode utilizar o *itemgetter* , que retorna um objeto da classe *itemgetter* que faz a busca pelo valor da chave que há no dicionário.\n",
        "\n",
        " Primeiro, ordenei a lista de acordo com a chave *id* dos dicionários, em ordem crescente.\n",
        " Em seguida, voltei a ordenar a lista, mas dessa vez utilizei a chave \"age\" como parâmetro, com ordem decrescente. A ordem decrescente pode ser obtida colocando o parâmetro *reverse* como *True*."
      ]
    },
    {
      "cell_type": "code",
      "metadata": {
        "id": "HS8_jTXjgnIU"
      },
      "source": [
        "from operator import itemgetter \n",
        "\n",
        "# Dicionário contendo os dados\n",
        "arr = [{'id': 1, 'first_name': \"Juca\", 'last_name': \"Da Silva\", \"age\": 42},\n",
        "    {'id': 2, 'first_name': \"Daniel\", 'last_name': \"Gonçalves\",  \"age\": 21},\n",
        "    {'id': 3, 'first_name': \"Matheus\", 'last_name': \"Garcia\", \"age\": 28},\n",
        "    {'id': 4, 'first_name': \"Gabriel\", 'last_name': \"Dorneles\", \"age\": 21} ]\n",
        "\n",
        "arr.sort( key = itemgetter('id') ) # Ordenar por id de forma crescente\n",
        "arr.sort( key = itemgetter('age'), reverse=True) # Ordenar por idade decrescente\n",
        "arr "
      ],
      "execution_count": null,
      "outputs": []
    },
    {
      "cell_type": "markdown",
      "metadata": {
        "id": "KRgt95aqXYVe"
      },
      "source": [
        "A resposta do código a seguir mostra a lista ordenada por idade \"age\" de forma decrescente, e quando as idades são iguais, o desempate é feito pela chave \"id\" dos dicionários de forma crescente. No caso da lista arr, há 2 dicionários onde a chave \"age\" tem valor igual a 21, sendo a ordem decidida pelo valor da chave \"id\".\n",
        "\n",
        "A seguir, veremos um códgio teste, onde os valores da chave \"id\" de Daniel e Gabriel foram modificados."
      ]
    },
    {
      "cell_type": "markdown",
      "metadata": {
        "id": "2bATT6YcmCbf"
      },
      "source": [
        "Código teste 1:\n",
        "\n"
      ]
    },
    {
      "cell_type": "code",
      "metadata": {
        "id": "zGSMS4Dfl-NR"
      },
      "source": [
        "from operator import itemgetter \n",
        "\n",
        "# Dicionário contendo os dados\n",
        "arr = [{'id': 1, 'first_name': \"Juca\", 'last_name': \"Da Silva\", \"age\": 42},\n",
        "    {'id': 7, 'first_name': \"Daniel\", 'last_name': \"Gonçalves\",  \"age\": 21},     # id = 2\n",
        "    {'id': 3, 'first_name': \"Matheus\", 'last_name': \"Garcia\", \"age\": 28},\n",
        "    {'id': 9, 'first_name': \"Gabriel\", 'last_name': \"Dorneles\", \"age\": 21} ]     # id = 4\n",
        "\n",
        "arr.sort(key=itemgetter('id')) # Ordenar por id de forma crescente\n",
        "arr.sort(key= itemgetter('age'), reverse=True) # Ordenar por idade decrescente\n",
        "arr"
      ],
      "execution_count": null,
      "outputs": []
    },
    {
      "cell_type": "markdown",
      "metadata": {
        "id": "h7N-kaNgYzgB"
      },
      "source": [
        "Código teste 2: Neste exemplo, o id de Daniel será maior que o id do Gabriel"
      ]
    },
    {
      "cell_type": "code",
      "metadata": {
        "id": "UbinU9hOY7ym"
      },
      "source": [
        "from operator import itemgetter \n",
        "\n",
        "# Dicionário contendo os dados\n",
        "arr = [{'id': 1, 'first_name': \"Juca\", 'last_name': \"Da Silva\", \"age\": 42},\n",
        "    {'id': 10, 'first_name': \"Daniel\", 'last_name': \"Gonçalves\",  \"age\": 21},     # id = 2\n",
        "    {'id': 3, 'first_name': \"Matheus\", 'last_name': \"Garcia\", \"age\": 28},\n",
        "    {'id': 9, 'first_name': \"Gabriel\", 'last_name': \"Dorneles\", \"age\": 21} ]     # id = 4\n",
        "\n",
        "arr.sort(key=itemgetter('id')) # Ordenar por id de forma crescente\n",
        "arr.sort(key= itemgetter('age'), reverse=True) # Ordenar por idade decrescente\n",
        "arr"
      ],
      "execution_count": null,
      "outputs": []
    },
    {
      "cell_type": "markdown",
      "metadata": {
        "id": "CTiHc-2harWc"
      },
      "source": [
        "-----------------------------------\n"
      ]
    },
    {
      "cell_type": "markdown",
      "metadata": {
        "id": "SKnFrdlSgqMi"
      },
      "source": [
        "### Questão 10:  Receber dois arrays e formar um\n",
        "\n",
        "---\n",
        "\n"
      ]
    },
    {
      "cell_type": "markdown",
      "metadata": {
        "id": "so_DpB4SbDDE"
      },
      "source": [
        "A última questão também foi bastante desafiadora, já que eu tive que relembrar e pesquisar os métodos de manipulação para dicionários, assim como realizar alguns testes em outro arquivo.\n",
        "\n",
        "Os passos da minha resposta foram:\n",
        "\n",
        "\n",
        "   Utilizei um loop for para percorrer cada dicionário presente na lista moveis e usei o método *update* para inserir um novo dado que contém chave \"actors\" e no valor uma lista vazia \"[ ]\". Esse par chave-valor foi adicionado a cada dicioário existente na lista movies.\n",
        "\n",
        "  Em seguida, utilizei um \"loop for duplo\", como eu chamei no comentário no bloco de código abaixo, para percorrer cada dicionário na lista \"movies\" e cada par chave-valor presente em cada um desses dicionários, por isso o nome loop duplo. Então, criei uma condição *if* para verificar se cada \"id\" de Movies está contido em alguma lista *movie_ids* dos dicionários presentes em actors.\n",
        "\n",
        "   Se sim, a chave \"actors\" de movies recebrá o \"name\" do actor presente em actors. Se não, o loop continua em frente. \n",
        "\n",
        " Por fim, para exibir os dados na tela, utilizei o *print* de forma personalizada, a fim de melhorar a visualização\n",
        "\n"
      ]
    },
    {
      "cell_type": "code",
      "metadata": {
        "id": "cqtbdfLHgyb3"
      },
      "source": [
        "# array contendo id e nome de cada filme\n",
        "movies = [\n",
        "\t{ 'id': 1, 'name': 'Joker' },\n",
        "\t{ 'id': 2, 'name': 'Parasite' },\n",
        "\t{ 'id': 3, 'name': 'Avengers' },\n",
        "\t{ 'id': 4, 'name': 'Her' }\n",
        "]\n",
        "\n",
        "# array contendo id, nome e filme feito pelos atores\n",
        "actors = [\n",
        "\t{ 'id': 1, 'name': 'Cho Yeo-jeong', 'movie_ids': [2] },\n",
        "\t{ 'id': 2, 'name': 'Robert Downey Jr.', 'movie_ids': [3] },\n",
        "\t{ 'id': 3, 'name': 'Joaquin Phoenix', 'movie_ids': [1, 4] },\n",
        "\t{ 'id': 4, 'name': 'Scarlett Johansson', 'movie_ids': [3] }\n",
        "]\n",
        "\n",
        "# Loop para acrescentar uma chave 'actors' a cada um dos dicionários do array movies\n",
        "for x in  range( len(movies) ):\n",
        "    movies[x].update({'actors': []})\n",
        "\n",
        "#loop duplo para percorrer 4 vezes o movies e 16 vezes o actors\n",
        "# a cada iteração i, verificar se o id do dicionário da posição i está na lista movie_ids\n",
        "# de algum dicionário da lista actors\n",
        "\n",
        "for i in range(len(movies)):\n",
        "    for k in range( len(actors)):\n",
        "        if movies[i]['id'] in actors[k]['movie_ids']:\n",
        "            movies[i]['actors'].append( actors[k]['name'] )\n",
        "        else:\n",
        "            continue\n",
        "\n",
        "# Imprimir o novo dicionário movies\n",
        "movies"
      ],
      "execution_count": null,
      "outputs": []
    },
    {
      "cell_type": "markdown",
      "metadata": {
        "id": "XkPlpujjq0HC"
      },
      "source": [
        "Melhor forma de visualizar a resposta do código anterior:"
      ]
    },
    {
      "cell_type": "code",
      "metadata": {
        "id": "l4Evf3d-p9DV"
      },
      "source": [
        "for x in range( len(movies) ):\n",
        "  print('Filme: ', movies[x]['name'],'--',  'Atores: ', movies[x]['actors']  )"
      ],
      "execution_count": null,
      "outputs": []
    }
  ]
}